{
 "cells": [
  {
   "cell_type": "markdown",
   "metadata": {},
   "source": [
    "# Physics 256\n",
    "## Lecture 09 - More Numpy and Matplotlib"
   ]
  },
  {
   "cell_type": "markdown",
   "metadata": {},
   "source": [
    "<img src=\"http://matplotlib.org/_static/logo2.png\" width=400px>"
   ]
  },
  {
   "cell_type": "code",
   "execution_count": null,
   "metadata": {},
   "outputs": [],
   "source": [
    "import style\n",
    "style._set_css_style('../include/bootstrap.css')"
   ]
  },
  {
   "cell_type": "markdown",
   "metadata": {},
   "source": [
    "## Last Time\n",
    "\n",
    "### [Notebook Link: 08_NumpyArrays.ipynb](./08_NumpyArrays.ipynb)\n",
    "\n",
    "- reading and writing numerical data to files\n",
    "- an introduction to numpy arrays\n",
    "\n",
    "## Today\n",
    "- multidimensional arrays with numpy\n",
    "- introduction to plotting with matplotlib\n"
   ]
  },
  {
   "cell_type": "markdown",
   "metadata": {},
   "source": [
    "## NumPy\n",
    "\n",
    "Recall: NumPy is the fundamental package needed for scientific computing with Python. It contains among other things:\n",
    "- a powerful N-dimensional array object \n",
    "- sophisticated and optimized array (broadcasting) functions\n",
    "- tools for integrating C/C++ and Fortran code \n",
    "- useful linear algebra, Fourier transform, and random number capabilities\n",
    "\n",
    "We can import all this functionality using the `import` command.  It is customary to use the shortform `np`"
   ]
  },
  {
   "cell_type": "markdown",
   "metadata": {},
   "source": [
    "<div class=\"span alert alert-success\">\n",
    "<h2> Team Programming Challenge </h2>\n",
    "<ol>\n",
    "<li>Find indices of non-zero elements from [1,2,0,0,4,0].</li>\n",
    "<li>Create an array of uniformly distributed random numbers between 1 and 3 and explore how the average depends on the length of the array.\n",
    "<li> Show that a 10x10 identity matrix is idempotent. </li>\n",
    "<li> Explore the meshgrid method and use it to evaluate the matrix $Z = X^2 + Y^2\n",
    "$ on a 10x10 grid between -1,1.\n",
    "</ol>\n",
    "</div>"
   ]
  },
  {
   "cell_type": "code",
   "execution_count": null,
   "metadata": {
    "collapsed": true
   },
   "outputs": [],
   "source": []
  },
  {
   "cell_type": "markdown",
   "metadata": {},
   "source": [
    "<div class=\"span alert alert-info\">\n",
    "<h2> Individual Programming Challenge</h2>\n",
    "<h3> Create the following 5x5 matrix programatically. </h3>\n",
    "</div>\n",
    "</div>\n",
    "\n",
    "<table>\n",
    "  <tr>\n",
    "    <td >0</td>\n",
    "    <td>1</td>\n",
    "    <td >2</td>\n",
    "    <td >3</td>\n",
    "    <td >4</td>\n",
    "  </tr>\n",
    "  <tr>\n",
    "    <td class=\"tg-s6z2\">10</td>\n",
    "    <td class=\"tg-031e\">11</td>\n",
    "    <td class=\"tg-031e\">12</td>\n",
    "    <td class=\"tg-031e\">13</td>\n",
    "    <td class=\"tg-031e\">14</td>\n",
    "  </tr>\n",
    "  <tr>\n",
    "    <td class=\"tg-s6z2\">20</td>\n",
    "    <td class=\"tg-031e\">21</td>\n",
    "    <td class=\"tg-031e\">22</td>\n",
    "    <td class=\"tg-031e\">23</td>\n",
    "    <td class=\"tg-031e\">24</td>\n",
    "  </tr>\n",
    "  <tr>\n",
    "    <td class=\"tg-s6z2\">30</td>\n",
    "    <td class=\"tg-031e\">31</td>\n",
    "    <td class=\"tg-031e\">32</td>\n",
    "    <td class=\"tg-031e\">33</td>\n",
    "    <td class=\"tg-031e\">34</td>\n",
    "  </tr>\n",
    "  <tr>\n",
    "    <td class=\"tg-s6z2\">40</td>\n",
    "    <td class=\"tg-031e\">41</td>\n",
    "    <td class=\"tg-031e\">42</td>\n",
    "    <td class=\"tg-031e\">43</td>\n",
    "    <td class=\"tg-031e\">44</td>\n",
    "  </tr>\n",
    "</table>\n",
    "\n",
    "<!--M = np.array([[10*j+i for i in range(5)] for j in range(5)])\n",
    "print M\n",
    "-->"
   ]
  },
  {
   "cell_type": "code",
   "execution_count": null,
   "metadata": {},
   "outputs": [],
   "source": [
    "import numpy as np"
   ]
  },
  {
   "cell_type": "markdown",
   "metadata": {},
   "source": [
    "### Matrix slicing"
   ]
  },
  {
   "cell_type": "code",
   "execution_count": null,
   "metadata": {
    "collapsed": false
   },
   "outputs": [],
   "source": [
    "M[0,2:4]"
   ]
  },
  {
   "cell_type": "code",
   "execution_count": null,
   "metadata": {
    "collapsed": false
   },
   "outputs": [],
   "source": [
    "M[1:3,1:3]"
   ]
  },
  {
   "cell_type": "code",
   "execution_count": null,
   "metadata": {
    "collapsed": false
   },
   "outputs": [],
   "source": [
    "M[:,2]"
   ]
  },
  {
   "cell_type": "code",
   "execution_count": null,
   "metadata": {
    "collapsed": false
   },
   "outputs": [],
   "source": [
    "M[2::2,::3]"
   ]
  },
  {
   "cell_type": "markdown",
   "metadata": {},
   "source": [
    "<div class=\"span alert alert-danger\">\n",
    "Slices are references to memory in the original array.  If any slice changs, the data in the array will change.\n",
    "</div>\n"
   ]
  },
  {
   "cell_type": "code",
   "execution_count": null,
   "metadata": {
    "collapsed": false
   },
   "outputs": [],
   "source": [
    "M[2::2,::3] = -1000\n",
    "M"
   ]
  },
  {
   "cell_type": "markdown",
   "metadata": {},
   "source": [
    "We need to use copies to avoid this problem"
   ]
  },
  {
   "cell_type": "code",
   "execution_count": null,
   "metadata": {
    "collapsed": false
   },
   "outputs": [],
   "source": [
    "M2 = np.copy(M)\n",
    "M2"
   ]
  },
  {
   "cell_type": "code",
   "execution_count": null,
   "metadata": {
    "collapsed": false
   },
   "outputs": [],
   "source": [
    "M2[2::2,::3] = 1000\n",
    "M2"
   ]
  },
  {
   "cell_type": "code",
   "execution_count": null,
   "metadata": {
    "collapsed": false
   },
   "outputs": [],
   "source": [
    "M"
   ]
  },
  {
   "cell_type": "markdown",
   "metadata": {},
   "source": [
    "### Reading/Writing arrays to/from disk\n",
    "\n",
    "We already saw np.genfromtxt().  We can also use np.loadtxt() and np.savetxt() to drastically simplify numerical file input/output."
   ]
  },
  {
   "cell_type": "code",
   "execution_count": null,
   "metadata": {
    "collapsed": false
   },
   "outputs": [],
   "source": [
    "# loadtxt ignores comments with '#' by default\n",
    "data = np.loadtxt('../data/sho_energy.dat')\n",
    "\n",
    "# create a new array that also includes the total energy\n",
    "energies = np.zeros([data.shape[0],data.shape[1]+1])\n",
    "energies[:,:2] = data\n",
    "energies[:,-1] = data[:,0] + data[:,1]\n",
    "\n",
    "# create the header string\n",
    "cols = 'Kinetic [K]','Potential [K]','Total Energy [K]'\n",
    "headers = '{:>14s}\\t{:>16s}\\t{:>16s}'.format(*cols)\n",
    "\n",
    "# save to disk\n",
    "np.savetxt('../data/sho_energy_total.dat', energies, fmt='%+16.8E', \n",
    "           delimiter='\\t', comments='# ', header=headers)"
   ]
  },
  {
   "cell_type": "code",
   "execution_count": null,
   "metadata": {
    "collapsed": false
   },
   "outputs": [],
   "source": [
    "!cat ../data/sho_energy_total.dat"
   ]
  },
  {
   "cell_type": "markdown",
   "metadata": {},
   "source": [
    "# Matplotlib\n",
    "\n",
    "This is an extremely flexible plotting library that can do almost everything we need from simple 1d plots, to matrices of supbplots, 3d plots and animations with full support for LaTeX.  It was created by John Hunter as a replacement for matlab, so many of the command may be familiar to you already.\n",
    "\n",
    "<img src=\"http://matplotlib.org/_static/John-hunter-crop-2.jpg\">\n",
    "\n",
    "<blockquote>\n",
    "Matplotlib tries to make easy things easy and hard things possible. <br />\n",
    "  -- John Hunter (1968-2012)\n",
    "</blockquote>\n",
    "\n",
    "Nobody can memorize all the configuration options and plot types.  Plan to make heavy use of the example code on the matplotlib website:\n",
    "\n",
    "http://matplotlib.org\n",
    "\n",
    "It is conventional to import via:"
   ]
  },
  {
   "cell_type": "code",
   "execution_count": null,
   "metadata": {
    "collapsed": false
   },
   "outputs": [],
   "source": [
    "import matplotlib.pyplot as plt"
   ]
  },
  {
   "cell_type": "markdown",
   "metadata": {},
   "source": [
    "Historically (I still do this sometimes) people used `import pylab as pl` which is a convenicnce module that imports both pyplot and numpy in one package.  It is better programming form to use:\n",
    "\n",
    "    import numpy as np\n",
    "    import matplotlib.pyplot as plt\n",
    "\n",
    "as there is no guarentee that as `numpy` continues to evolve, all its latest features will be in pylab.\n",
    "\n",
    "If you are using the iPython notebook, you can have plots displayed inline using an iPython magic:"
   ]
  },
  {
   "cell_type": "code",
   "execution_count": null,
   "metadata": {
    "collapsed": false
   },
   "outputs": [],
   "source": [
    "%matplotlib inline \n",
    "# or %matplotlib notebook\n",
    "%config InlineBackend.figure_format = 'svg'"
   ]
  },
  {
   "cell_type": "markdown",
   "metadata": {},
   "source": [
    "If you are writing scripts or using canopy, you will need to explicitly type the `plt.show()` command to see a plot appear.\n",
    "\n",
    "<div class=\"span alert alert-danger\">\n",
    "The default backend (GUI display) will differ depending on your OS.  Some may draw the plot to the screen without the use of the plt.show() command, but it is good practice to use it.\n",
    "</div>"
   ]
  },
  {
   "cell_type": "markdown",
   "metadata": {},
   "source": [
    "## Plotting Styles\n",
    "\n",
    "Learn how to use stylesheets for consistent plot styling:\n",
    "http://matplotlib.org/users/style_sheets.html"
   ]
  },
  {
   "cell_type": "code",
   "execution_count": null,
   "metadata": {
    "collapsed": false
   },
   "outputs": [],
   "source": [
    "plt.style.use('../include/notebook.mplstyle')"
   ]
  },
  {
   "cell_type": "code",
   "execution_count": null,
   "metadata": {
    "collapsed": false
   },
   "outputs": [],
   "source": [
    "!cat ../include/notebook.mplstyle"
   ]
  },
  {
   "cell_type": "markdown",
   "metadata": {},
   "source": [
    "## Basic plotting "
   ]
  },
  {
   "cell_type": "code",
   "execution_count": null,
   "metadata": {
    "collapsed": false
   },
   "outputs": [],
   "source": [
    "# Our first plot, a list\n",
    "plt.plot([0,1,4,9,15])"
   ]
  },
  {
   "cell_type": "markdown",
   "metadata": {},
   "source": [
    "Providing a single list to `plot()` causes the x-axis to be taken as the integer indices of the list."
   ]
  },
  {
   "cell_type": "code",
   "execution_count": null,
   "metadata": {
    "collapsed": false
   },
   "outputs": [],
   "source": [
    "# can use all the python tricks we have learned so far\n",
    "x = list(range(6))\n",
    "plt.plot(x,[xi**2 for xi in x])"
   ]
  },
  {
   "cell_type": "code",
   "execution_count": null,
   "metadata": {
    "collapsed": false
   },
   "outputs": [],
   "source": [
    "# We can use numpy array operations to simplify things\n",
    "x = np.arange(0,6,0.001)\n",
    "plt.plot(x,x**2)"
   ]
  },
  {
   "cell_type": "markdown",
   "metadata": {},
   "source": [
    "## Combining data\n",
    "\n",
    "Until we explicitly issue the `show()` command or shange the figure number with `figure(num=?)` all data will be included on the same plot"
   ]
  },
  {
   "cell_type": "code",
   "execution_count": null,
   "metadata": {
    "collapsed": false
   },
   "outputs": [],
   "source": [
    "plt.figure(num=3)\n",
    "plt.plot(x,x**1.5)\n",
    "plt.plot(x,x**2)\n",
    "plt.plot(x,x**2.5)"
   ]
  },
  {
   "cell_type": "code",
   "execution_count": null,
   "metadata": {
    "collapsed": false
   },
   "outputs": [],
   "source": [
    "# we could have included them all in a single line\n",
    "plt.plot(x,x**1.5,x,x**2,x,x**2.5)"
   ]
  },
  {
   "cell_type": "markdown",
   "metadata": {},
   "source": [
    "## Customizing\n",
    "\n",
    "There are multitudinous ways to customize the look of your plots"
   ]
  },
  {
   "cell_type": "code",
   "execution_count": null,
   "metadata": {
    "collapsed": false
   },
   "outputs": [],
   "source": [
    "# grids\n",
    "plt.plot(x,0*x,x,x,x,-x)\n",
    "plt.grid(True)"
   ]
  },
  {
   "cell_type": "code",
   "execution_count": null,
   "metadata": {
    "collapsed": false
   },
   "outputs": [],
   "source": [
    "# specifying axes bounds, labels and titles\n",
    "y = x - 4*x**2 + x**3\n",
    "plt.plot(x,y)\n",
    "plt.xlim(1,3)\n",
    "plt.ylim(-8,0)\n",
    "plt.xlabel('x')\n",
    "plt.ylabel('y')\n",
    "plt.title(r'$y = x - 4x^2 + x^3$')"
   ]
  },
  {
   "cell_type": "code",
   "execution_count": null,
   "metadata": {
    "collapsed": false
   },
   "outputs": [],
   "source": [
    "# adding a legend\n",
    "plt.plot(x,0*x,label=r'$y=0$')\n",
    "plt.plot(x,y,label=r'$y=x-4x^2+x^3$')\n",
    "plt.plot(x,-y,label=r'$y=-x+4x^2-x^3$')\n",
    "plt.ylim(-20,20)\n",
    "plt.legend(loc='upper left', fontsize=16)"
   ]
  },
  {
   "cell_type": "markdown",
   "metadata": {},
   "source": [
    "`legend` locations are: ‘best’, ‘upper right’, ‘upper left’, ‘lower left’, ‘lower right’, ‘right’, ‘center left’, ‘center right’, ‘lower center’, ‘upper center’ and ‘center’\n",
    "\n",
    "If any label argument is set to the literal string `_nolegend_`, then that line is excluded from the legend.\n"
   ]
  },
  {
   "cell_type": "markdown",
   "metadata": {},
   "source": [
    "<div class=\"span alert alert-success\">\n",
    "<h2> Team Programming Challenge </h2>\n",
    "<h3>Observation of Gravitational Waves from a Binary Black Hole Merger</h3>\n",
    "\n",
    "<p>\n",
    "Paper: http://journals.aps.org/prl/abstract/10.1103/PhysRevLett.116.061102 <br />\n",
    "</p>\n",
    "\n",
    "<p>\n",
    "I have extracted the processed data sets corresponding to the LIGO strain observation time series in Hanford, WA (H1) and Livingston, LA (L1) and uploaded them as <kbd>../data/ligo_data.dat</kbd>.  The numerical predictions from general relativity for a binary black hole merger are included as <kbd>../data/nr_prediction.dat</kbd>.\n",
    "</p>\n",
    "<br />\n",
    "<p>\n",
    "Download the data sets, load them and produce a plot comparing the obeservations to the theoretical prediction.  Make sure to label all axes and add a legend labelling your curves.  Compare with the top right hand panels of Figure 1 in the linked paper.\n",
    "</p>\n",
    "\n",
    "</div>\n",
    "\n"
   ]
  },
  {
   "cell_type": "code",
   "execution_count": null,
   "metadata": {},
   "outputs": [],
   "source": [
    "%load solutions/ligo.py"
   ]
  },
  {
   "cell_type": "code",
   "execution_count": null,
   "metadata": {
    "collapsed": true
   },
   "outputs": [],
   "source": []
  }
 ],
 "metadata": {
  "kernelspec": {
   "display_name": "Python 3",
   "language": "python",
   "name": "python3"
  },
  "language_info": {
   "codemirror_mode": {
    "name": "ipython",
    "version": 3
   },
   "file_extension": ".py",
   "mimetype": "text/x-python",
   "name": "python",
   "nbconvert_exporter": "python",
   "pygments_lexer": "ipython3",
   "version": "3.7.3"
  }
 },
 "nbformat": 4,
 "nbformat_minor": 2
}
